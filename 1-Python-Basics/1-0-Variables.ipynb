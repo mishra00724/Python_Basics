{
 "cells": [
  {
   "attachments": {},
   "cell_type": "markdown",
   "metadata": {},
   "source": [
    "## Variables\n",
    "\n",
    "Variables area fundamental elements in programming used to store data that can be refrence and manupulated in a program . \n",
    "In Python, variables are created when you assign a value to them and they don't need explicit declaration to reserve memory space. The declaration happens automatically when you assign a value to a variable.\n",
    "\n",
    "Video outline:\n",
    "\n",
    "- Introduction top Variables \n",
    "- Declaring and Assigning Variables \n",
    "- Naming Conventions \n",
    "- Understanding Variable Types \n",
    "- Type Checking and Conversion\n",
    "- Dynamic Typing\n",
    "- Practical Examples and Common Errors"
   ]
  },
  {
   "cell_type": "code",
   "execution_count": 1,
   "metadata": {},
   "outputs": [
    {
     "name": "stdout",
     "output_type": "stream",
     "text": [
      "age : 27\n",
      "height : 5.7\n",
      "Naame : Himanshu\n"
     ]
    }
   ],
   "source": [
    "## Declaring And Assigning Variables \n",
    "\n",
    "age = 27 \n",
    "height = 5.7\n",
    "name = \"Himanshu\"\n",
    "is_student= True\n",
    "\n",
    "## Prinitng the Variables\n",
    "\n",
    "print(\"age :\",age)\n",
    "\n",
    "print(\"height :\",height)\n",
    "\n",
    "print(\"Naame :\",name)\n"
   ]
  },
  {
   "cell_type": "code",
   "execution_count": 2,
   "metadata": {},
   "outputs": [],
   "source": [
    "## Naming Coventions\n",
    "## Variable names should be descriptive\n",
    "## They must always start with a letter or an '_' and contain letter , numbers and underscores.\n",
    "## Variables names are case sensitive.\n",
    "\n",
    "# Valid variable names\n",
    "first_name = \"Himanshu\"\n",
    "last_name = \"Mishra\"\n",
    "\n"
   ]
  },
  {
   "cell_type": "code",
   "execution_count": 4,
   "metadata": {},
   "outputs": [],
   "source": [
    "##Invalid Variable Names\n",
    "\n",
    "#2age=30\n",
    "#first-name = \"himanshu\"\n",
    "#@name=\"Satyam\""
   ]
  },
  {
   "cell_type": "code",
   "execution_count": 5,
   "metadata": {},
   "outputs": [
    {
     "data": {
      "text/plain": [
       "False"
      ]
     },
     "execution_count": 5,
     "metadata": {},
     "output_type": "execute_result"
    }
   ],
   "source": [
    "## Case Sensitivity\n",
    "name=\"Himanshu\"\n",
    "Name=\"Satyam\"\n",
    "name==Name"
   ]
  },
  {
   "cell_type": "code",
   "execution_count": 6,
   "metadata": {},
   "outputs": [
    {
     "name": "stdout",
     "output_type": "stream",
     "text": [
      "<class 'str'>\n"
     ]
    }
   ],
   "source": [
    "## Understanding Variable Types\n",
    "## Python is dynamatically typed, type of a variable is determing at runtime\n",
    "age = 25 #int\n",
    "height = 6.1 #float\n",
    "name = \" Satyam \" #str\n",
    "is_student = True #bool\n",
    "\n",
    "print(type(name))"
   ]
  },
  {
   "cell_type": "code",
   "execution_count": 7,
   "metadata": {},
   "outputs": [
    {
     "data": {
      "text/plain": [
       "float"
      ]
     },
     "execution_count": 7,
     "metadata": {},
     "output_type": "execute_result"
    }
   ],
   "source": [
    "## Type checking and conversion\n",
    "\n",
    "type(height)"
   ]
  },
  {
   "cell_type": "code",
   "execution_count": 9,
   "metadata": {},
   "outputs": [
    {
     "name": "stdout",
     "output_type": "stream",
     "text": [
      "<class 'int'>\n",
      "25\n",
      "<class 'str'>\n"
     ]
    }
   ],
   "source": [
    "age=25\n",
    "print(type(age))\n",
    "\n",
    "# Type conversion\n",
    "age_str = str(age)\n",
    "print(age_str)\n",
    "print(type(age_str))"
   ]
  },
  {
   "cell_type": "code",
   "execution_count": 10,
   "metadata": {},
   "outputs": [
    {
     "name": "stdout",
     "output_type": "stream",
     "text": [
      "<class 'int'>\n"
     ]
    }
   ],
   "source": [
    "age ='25'\n",
    "print(type(int(age)))"
   ]
  },
  {
   "cell_type": "code",
   "execution_count": 11,
   "metadata": {},
   "outputs": [
    {
     "data": {
      "text/plain": [
       "float"
      ]
     },
     "execution_count": 11,
     "metadata": {},
     "output_type": "execute_result"
    }
   ],
   "source": [
    "height = 5.11\n",
    "type(height)"
   ]
  },
  {
   "cell_type": "code",
   "execution_count": 12,
   "metadata": {},
   "outputs": [
    {
     "data": {
      "text/plain": [
       "5"
      ]
     },
     "execution_count": 12,
     "metadata": {},
     "output_type": "execute_result"
    }
   ],
   "source": [
    "int(height)"
   ]
  },
  {
   "cell_type": "code",
   "execution_count": 13,
   "metadata": {},
   "outputs": [
    {
     "name": "stdout",
     "output_type": "stream",
     "text": [
      "10 <class 'int'>\n",
      "Hello <class 'str'>\n",
      "3.14 <class 'float'>\n"
     ]
    }
   ],
   "source": [
    "## Dynamic Typing\n",
    "#3 Python allows the type of variables to change as the program executes\n",
    "var = 10 #int\n",
    "print(var,type(var))\n",
    "\n",
    "var=\"Hello\"\n",
    "print(var,type(var))\n",
    "\n",
    "var = 3.14\n",
    "print(var,type(var))\n"
   ]
  },
  {
   "cell_type": "code",
   "execution_count": 15,
   "metadata": {},
   "outputs": [
    {
     "name": "stdout",
     "output_type": "stream",
     "text": [
      "27 <class 'int'>\n"
     ]
    }
   ],
   "source": [
    "##Input\n",
    "\n",
    "age = int(input(\"What is the age?\"))\n",
    "print(age,type(age))"
   ]
  },
  {
   "cell_type": "code",
   "execution_count": null,
   "metadata": {},
   "outputs": [],
   "source": []
  }
 ],
 "metadata": {
  "kernelspec": {
   "display_name": "Python 3",
   "language": "python",
   "name": "python3"
  },
  "language_info": {
   "codemirror_mode": {
    "name": "ipython",
    "version": 3
   },
   "file_extension": ".py",
   "mimetype": "text/x-python",
   "name": "python",
   "nbconvert_exporter": "python",
   "pygments_lexer": "ipython3",
   "version": "3.12.0"
  },
  "orig_nbformat": 4
 },
 "nbformat": 4,
 "nbformat_minor": 2
}
