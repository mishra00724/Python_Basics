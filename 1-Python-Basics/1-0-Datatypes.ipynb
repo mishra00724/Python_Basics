{
 "cells": [
  {
   "attachments": {},
   "cell_type": "markdown",
   "metadata": {},
   "source": [
    "## DataTypes\n",
    "\n",
    "1. Definition:\n",
    "    - Data types area classification of data which tell the compiler or interpreter how the programmer intends to use the data.\n",
    "    - They determine the type of operations that can be performed on the data , the calues that the data can take , and the amount od memory needed to store the data.\n",
    "\n",
    "2. Importance of Data Types in Programming.\n",
    "\n",
    "    - Data types ensure that data is stored in an efficient way.\n",
    "    - They help in performing correct operations on data .\n",
    "    - Proper use of dta types can prevent errors and bugs in the porgram.\n",
    "\n",
    "### Video Outline\n",
    "\n",
    "    1. Introduction to Data Types.\n",
    "    2. Importance of Data Types in Programming.\n",
    "    3. Basic Data Types\n",
    "        * Integers\n",
    "        * Floating-point Number\n",
    "        * Strings\n",
    "        * Booleans\n",
    "    4. Advanced Data Types\n",
    "        * Lists\n",
    "        * Tuples\n",
    "        * Sets\n",
    "        * Dictionary\n",
    "    5. Type Conversion\n",
    "    6. Practical Examples\n",
    "        \n",
    " "
   ]
  },
  {
   "cell_type": "code",
   "execution_count": 1,
   "metadata": {},
   "outputs": [
    {
     "data": {
      "text/plain": [
       "int"
      ]
     },
     "execution_count": 1,
     "metadata": {},
     "output_type": "execute_result"
    }
   ],
   "source": [
    "## Integer Examples\n",
    "age =35\n",
    "type(age)\n"
   ]
  },
  {
   "cell_type": "code",
   "execution_count": 2,
   "metadata": {},
   "outputs": [
    {
     "name": "stdout",
     "output_type": "stream",
     "text": [
      "5.11 <class 'float'>\n"
     ]
    }
   ],
   "source": [
    "## Floating-point DataType\n",
    "height = 5.11\n",
    "print(height,type(height))"
   ]
  },
  {
   "cell_type": "code",
   "execution_count": 3,
   "metadata": {},
   "outputs": [
    {
     "name": "stdout",
     "output_type": "stream",
     "text": [
      "Himanshu <class 'str'>\n"
     ]
    }
   ],
   "source": [
    "## String Datatype Example\n",
    "name =\"Himanshu\"\n",
    "print(name,type(name))"
   ]
  },
  {
   "cell_type": "code",
   "execution_count": 4,
   "metadata": {},
   "outputs": [
    {
     "data": {
      "text/plain": [
       "bool"
      ]
     },
     "execution_count": 4,
     "metadata": {},
     "output_type": "execute_result"
    }
   ],
   "source": [
    "## Boolean DataType\n",
    "True\n",
    "type(True)"
   ]
  },
  {
   "cell_type": "code",
   "execution_count": 6,
   "metadata": {},
   "outputs": [
    {
     "data": {
      "text/plain": [
       "bool"
      ]
     },
     "execution_count": 6,
     "metadata": {},
     "output_type": "execute_result"
    }
   ],
   "source": [
    "a=10\n",
    "b=10\n",
    "a==b\n",
    "type(a==b)"
   ]
  },
  {
   "cell_type": "code",
   "execution_count": 9,
   "metadata": {},
   "outputs": [
    {
     "data": {
      "text/plain": [
       "'Hello5'"
      ]
     },
     "execution_count": 9,
     "metadata": {},
     "output_type": "execute_result"
    }
   ],
   "source": [
    "## Common Errors\n",
    "\n",
    "## Error: TypeError: can only concatenate str (not \"int\") to str\n",
    "#result = \"Hello\" + 5\n",
    "result = \"Hello\" + str(5)\n",
    "result\n"
   ]
  },
  {
   "cell_type": "code",
   "execution_count": null,
   "metadata": {},
   "outputs": [],
   "source": []
  }
 ],
 "metadata": {
  "kernelspec": {
   "display_name": "Python 3",
   "language": "python",
   "name": "python3"
  },
  "language_info": {
   "codemirror_mode": {
    "name": "ipython",
    "version": 3
   },
   "file_extension": ".py",
   "mimetype": "text/x-python",
   "name": "python",
   "nbconvert_exporter": "python",
   "pygments_lexer": "ipython3",
   "version": "3.12.0"
  },
  "orig_nbformat": 4
 },
 "nbformat": 4,
 "nbformat_minor": 2
}
