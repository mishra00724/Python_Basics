{
 "cells": [
  {
   "attachments": {},
   "cell_type": "markdown",
   "metadata": {},
   "source": [
    "## Functions Examples\n",
    "\n",
    "### Example 1: Temperature Conversion"
   ]
  },
  {
   "cell_type": "code",
   "execution_count": 1,
   "metadata": {},
   "outputs": [
    {
     "name": "stdout",
     "output_type": "stream",
     "text": [
      "77.0\n",
      "25.0\n"
     ]
    }
   ],
   "source": [
    "def convert_temperature(temp,unit):\n",
    "    \"\"\"this function converts temperature between Celsius and Fahrenheit\"\"\"\n",
    "\n",
    "    if unit =='C' or unit == 'c':\n",
    "        return temp *9/5 +32 ## Clesius to Fahrenheit\n",
    "    elif unit =='F' or unit == 'f':\n",
    "        return (temp-32)*5/9\n",
    "    else:\n",
    "        return None\n",
    "\n",
    "print(convert_temperature(25,'c'))\n",
    "print(convert_temperature(77,'f'))"
   ]
  },
  {
   "attachments": {},
   "cell_type": "markdown",
   "metadata": {},
   "source": [
    "## Example 2: Password Strength Checker"
   ]
  },
  {
   "cell_type": "code",
   "execution_count": 2,
   "metadata": {},
   "outputs": [
    {
     "name": "stdout",
     "output_type": "stream",
     "text": [
      "False\n",
      "True\n"
     ]
    }
   ],
   "source": [
    "def is_strong_password(password):\n",
    "    \"\"\"This function checks if the password is strong or not\"\"\"\n",
    "\n",
    "    if len(password)<8:\n",
    "        return False\n",
    "    if not any(char.isdigit() for char in password):\n",
    "        return False\n",
    "    if not any(char.islower() for char in password):\n",
    "        return False\n",
    "    if not any(char.isupper() for char in password):\n",
    "        return False\n",
    "    if not any(char in '!@#$%^&*()_+' for char in password):\n",
    "        return False\n",
    "    return True\n",
    "\n",
    "## Calling the function\n",
    "print(is_strong_password(\"WeakPWD\"))\n",
    "print(is_strong_password(\"Str0ngPWD!\"))"
   ]
  },
  {
   "attachments": {},
   "cell_type": "markdown",
   "metadata": {},
   "source": [
    "### Example 3:  Calculate the Total Cost Of Items In a Shopping Cart"
   ]
  },
  {
   "cell_type": "code",
   "execution_count": 7,
   "metadata": {},
   "outputs": [
    {
     "name": "stdout",
     "output_type": "stream",
     "text": [
      "Total Cost of cart is : $9.400000\n"
     ]
    }
   ],
   "source": [
    "def calculate_total_cost(cart):\n",
    "    total_cost=0\n",
    "    for item in cart:\n",
    "        total_cost +=item['price'] * item['quantity']\n",
    "\n",
    "    return total_cost \n",
    "\n",
    "## Example Cart Data\n",
    "\n",
    "cart=[\n",
    "    {'name':'Apple','price':0.5,'quantity':4},\n",
    "    {'name':'Banana','price':0.3,'quantity':6},\n",
    "    {'name':'Orange','price':0.7,'quantity':8},\n",
    "]\n",
    "\n",
    "## Calling the function\n",
    "total_cost=calculate_total_cost(cart)\n",
    "print(f\"Total Cost of cart is : ${total_cost:1f}\")"
   ]
  },
  {
   "attachments": {},
   "cell_type": "markdown",
   "metadata": {},
   "source": [
    "## Example 4: Check If a String Is Palindrome"
   ]
  },
  {
   "cell_type": "code",
   "execution_count": 9,
   "metadata": {},
   "outputs": [
    {
     "name": "stdout",
     "output_type": "stream",
     "text": [
      "True\n",
      "True\n"
     ]
    }
   ],
   "source": [
    "def is_palindrome(text):\n",
    "    text=text.lower().replace(\" \",\"\")\n",
    "    return text==text[::-1]\n",
    "\n",
    "print(is_palindrome('NAMAN'))\n",
    "print(is_palindrome(\"A man a plan a canal Panama\"))"
   ]
  },
  {
   "attachments": {},
   "cell_type": "markdown",
   "metadata": {},
   "source": [
    "### Example 5: Calculate the factorials of a number using recursion"
   ]
  },
  {
   "cell_type": "code",
   "execution_count": 10,
   "metadata": {},
   "outputs": [
    {
     "name": "stdout",
     "output_type": "stream",
     "text": [
      "120\n"
     ]
    }
   ],
   "source": [
    "def factorial(n):\n",
    "    if n==0:\n",
    "        return 1\n",
    "    else:\n",
    "        return n * factorial(n-1)\n",
    "    \n",
    "print(factorial(5))"
   ]
  },
  {
   "attachments": {},
   "cell_type": "markdown",
   "metadata": {},
   "source": [
    "### Example 6: A Function To Read A File and count the frequency of each word"
   ]
  },
  {
   "cell_type": "code",
   "execution_count": 11,
   "metadata": {},
   "outputs": [
    {
     "name": "stdout",
     "output_type": "stream",
     "text": [
      "{'the': 44, 'sun': 2, 'was': 9, 'shining': 1, 'bright': 1, 'in': 3, 'clear': 2, 'blue': 1, 'sky': 2, 'birds': 2, 'were': 6, 'chirping': 1, 'singing': 2, 'same': 21, 'songs': 2, 'over': 2, 'and': 10, 'again': 1, 'it': 9, 'a': 7, 'perfect': 3, 'day': 6, 'to': 1, 'go': 1, 'for': 1, 'walk': 2, 'i': 14, 'grabbed': 1, 'my': 4, 'shoes': 1, 'put': 1, 'them': 1, 'on': 5, 'stepped': 1, 'outside': 1, 'air': 3, 'fresh': 2, 'breeze': 1, 'cool': 1, 'warm': 1, 'walked': 2, 'down': 1, 'road': 2, 'passing': 1, 'by': 4, 'trees': 1, 'houses': 1, 'cars': 1, 'everything': 2, 'seemed': 1, 'familiar': 2, 'yet': 1, 'somehow': 2, 'different': 1, 'stretched': 1, 'like': 3, 'had': 2, 'no': 1, 'end': 1, 'as': 3, 'noticed': 1, 'cat': 2, 'sitting': 1, 'window': 1, 'looked': 1, 'at': 2, 'me': 1, 'with': 1, 'curious': 1, 'eyes': 1, 'always': 2, 'did': 1, 'waved': 1, 'but': 3, 'usual': 1, 'didn’t': 1, 'respond': 1, 'continued': 2, 'feeling': 1, 'soft': 1, 'crunch': 2, 'of': 3, 'leaves': 1, 'under': 1, 'feet': 1, 'sound': 1, 'repetitive': 1, 'comforting': 2, 'remained': 1, 'not': 1, 'cloud': 1, 'sight': 1, 'still': 1, 'their': 2, 'repeating': 1, 'stopped': 1, 'park': 2, 'sat': 1, 'bench': 1, 'where': 1, 'sit': 1, 'people': 1, 'walking': 2, 'dogs': 1, 'children': 1, 'playing': 1, 'swings': 1, 'joggers': 1, 'running': 1, 'laps': 1, 'around': 1, 'felt': 1, 'scene': 1, 'witnessed': 1, 'hundred': 1, 'times': 1, 'after': 1, 'while': 1, 'got': 1, 'up': 1, 'streets': 1, 'quiet': 2, 'that': 2, 'filled': 2, 'every': 2, 'afternoon': 1, 'passed': 1, 'store': 1, 'bakery': 1, 'coffee': 2, 'shop': 1, 'smell': 1, 'bread': 1, 'just': 1, 'other': 1, 'reached': 1, 'home': 1, 'realized': 1, 'despite': 1, 'being': 1, 'found': 1, 'peace': 1, 'repetition': 1, 'routine': 1, 'sights': 1, 'sounds—there': 1, 'something': 1, 'special': 1, 'about': 1, 'all': 1, 'may': 1, 'have': 1, 'been': 1}\n"
     ]
    }
   ],
   "source": [
    "def count_word_frequency(file_path):\n",
    "    word_count={}\n",
    "    with open(file_path,'r') as file:\n",
    "        for line in file:\n",
    "            words=line.split()\n",
    "            for word in words:\n",
    "                word=word.lower().strip('.,!?;:\"\\'')\n",
    "                word_count[word]=word_count.get(word,0)+1\n",
    "\n",
    "    return word_count\n",
    "\n",
    "filepath='sample.txt'\n",
    "words_frequency=count_word_frequency(filepath)\n",
    "print(words_frequency)\n"
   ]
  },
  {
   "attachments": {},
   "cell_type": "markdown",
   "metadata": {},
   "source": [
    "### Example 7: Validate Email Address"
   ]
  },
  {
   "cell_type": "code",
   "execution_count": 15,
   "metadata": {},
   "outputs": [
    {
     "name": "stdout",
     "output_type": "stream",
     "text": [
      "example@domain.com is a valid email address.\n"
     ]
    }
   ],
   "source": [
    "import re\n",
    "\n",
    "def validate_email(email):\n",
    "    # Regular expression pattern for validating an email\n",
    "    email_pattern = r'^[a-zA-Z0-9_.+-]+@[a-zA-Z0-9-]+\\.[a-zA-Z0-9-.]+$'\n",
    "    \n",
    "    # Check if the email matches the pattern\n",
    "    if re.match(email_pattern, email):\n",
    "        return True\n",
    "    else:\n",
    "        return False\n",
    "\n",
    "# Example usage\n",
    "email = \"example@domain.com\"\n",
    "if validate_email(email):\n",
    "    print(f\"{email} is a valid email address.\")\n",
    "else:\n",
    "    print(f\"{email} is not a valid email address.\")\n"
   ]
  },
  {
   "cell_type": "code",
   "execution_count": null,
   "metadata": {},
   "outputs": [],
   "source": []
  }
 ],
 "metadata": {
  "kernelspec": {
   "display_name": "Python 3",
   "language": "python",
   "name": "python3"
  },
  "language_info": {
   "codemirror_mode": {
    "name": "ipython",
    "version": 3
   },
   "file_extension": ".py",
   "mimetype": "text/x-python",
   "name": "python",
   "nbconvert_exporter": "python",
   "pygments_lexer": "ipython3",
   "version": "3.12.0"
  },
  "orig_nbformat": 4
 },
 "nbformat": 4,
 "nbformat_minor": 2
}
