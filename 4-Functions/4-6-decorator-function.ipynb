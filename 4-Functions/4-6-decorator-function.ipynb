{
 "cells": [
  {
   "attachments": {},
   "cell_type": "markdown",
   "metadata": {},
   "source": [
    "## Decorator Function\n",
    " \n",
    " Before we understand decorators , we need to understand fundamental aspect of functions in python. \n",
    " \"They can be represented as object.\""
   ]
  },
  {
   "cell_type": "code",
   "execution_count": 1,
   "metadata": {},
   "outputs": [],
   "source": [
    "def f1():\n",
    "    print(\"Called F1\")"
   ]
  },
  {
   "cell_type": "code",
   "execution_count": 5,
   "metadata": {},
   "outputs": [],
   "source": [
    "## Here f2() is a function which takes 'f' function as argument.\n",
    "# And in the body of function f2() we are calling this argument fucntion f()\n",
    "# So basically when we are calling f() through f2()\n",
    "def f2(f):\n",
    "    f()\n"
   ]
  },
  {
   "cell_type": "code",
   "execution_count": 4,
   "metadata": {},
   "outputs": [
    {
     "name": "stdout",
     "output_type": "stream",
     "text": [
      "Called F1\n"
     ]
    }
   ],
   "source": [
    "f2(f1)\n",
    "## Here f1 is an object that represents fucntion f1()"
   ]
  },
  {
   "cell_type": "code",
   "execution_count": 13,
   "metadata": {},
   "outputs": [],
   "source": [
    "## Wrapper function\n",
    "\n",
    "def f1(func):\n",
    "    def wrapper():\n",
    "        print(\"Started \")\n",
    "        func()\n",
    "        print(\"Ended\")\n",
    "    \n",
    "    return wrapper\n",
    "@f1\n",
    "def f():\n",
    "    print(\"Hello\")\n",
    "\n",
    "##print(f1(f)) ## this will return the memory of function inside function\n",
    "##f1(f)()"
   ]
  },
  {
   "cell_type": "code",
   "execution_count": 11,
   "metadata": {},
   "outputs": [
    {
     "name": "stdout",
     "output_type": "stream",
     "text": [
      "Started \n",
      "Hello\n",
      "Ended\n"
     ]
    }
   ],
   "source": [
    "#this is what we call function aliasing in python.\n",
    "x=f1(f)\n",
    "x()"
   ]
  },
  {
   "cell_type": "code",
   "execution_count": 14,
   "metadata": {},
   "outputs": [
    {
     "name": "stdout",
     "output_type": "stream",
     "text": [
      "Started \n",
      "Hello\n",
      "Ended\n"
     ]
    }
   ],
   "source": [
    "f()"
   ]
  },
  {
   "cell_type": "code",
   "execution_count": 15,
   "metadata": {},
   "outputs": [
    {
     "name": "stdout",
     "output_type": "stream",
     "text": [
      "Started\n",
      "Hi!! 9\n",
      "Ended\n"
     ]
    }
   ],
   "source": [
    "def f1(func):\n",
    "    def wrapper(*args,**kwargs):\n",
    "        print(\"Started\")\n",
    "        func(*args,**kwargs)\n",
    "        print(\"Ended\")\n",
    "    \n",
    "    return wrapper\n",
    "\n",
    "@f1\n",
    "def f(a,b=9):\n",
    "    print(a,b)\n",
    "\n",
    "f(\"Hi!!\")"
   ]
  },
  {
   "cell_type": "code",
   "execution_count": 16,
   "metadata": {},
   "outputs": [
    {
     "name": "stdout",
     "output_type": "stream",
     "text": [
      "Started\n",
      "Ended\n",
      "9\n"
     ]
    }
   ],
   "source": [
    "def f1(func):\n",
    "    def wrapper(*args,**kwargs):\n",
    "        print(\"Started\")\n",
    "        val= func(*args,**kwargs)\n",
    "        print(\"Ended\")\n",
    "        return val\n",
    "    \n",
    "    return wrapper\n",
    "\n",
    "@f1\n",
    "def f(a,b=9):\n",
    "    print(a,b)\n",
    "\n",
    "@f1\n",
    "def add(x,y):\n",
    "    return x+y\n",
    "\n",
    "print(add(4,5))"
   ]
  },
  {
   "cell_type": "code",
   "execution_count": 17,
   "metadata": {},
   "outputs": [
    {
     "name": "stdout",
     "output_type": "stream",
     "text": [
      "Function took: 2.0049760341644287  Seconds\n"
     ]
    }
   ],
   "source": [
    "## Python Decorator -Example 2\n",
    "import time\n",
    "\n",
    "def timer(func):\n",
    "    def wrapper():\n",
    "        before= time.time()\n",
    "        func()\n",
    "        print(\"Function took:\",time.time()-before,\" Seconds\")\n",
    "    \n",
    "    return wrapper\n",
    "\n",
    "@timer\n",
    "def run():\n",
    "    time.sleep(2)\n",
    "\n",
    "run()"
   ]
  },
  {
   "cell_type": "code",
   "execution_count": 18,
   "metadata": {},
   "outputs": [
    {
     "name": "stdout",
     "output_type": "stream",
     "text": [
      "13\n"
     ]
    }
   ],
   "source": [
    "## Python Decorator -Example 3\n",
    "import datetime\n",
    "\n",
    "def log(func):\n",
    "    def wrapper(*args,**kwargs):\n",
    "        with open(\"logs.txt\",\"a\") as f:\n",
    "            f.write(\"Called fucntion with \"+ \" \".join([str(arg) for arg in args])+ \" at \" + str(datetime.datetime.now())+ \"\\n\")\n",
    "        val = func(*args,**kwargs)\n",
    "        return val\n",
    "    \n",
    "    return wrapper    \n",
    "\n",
    "@log\n",
    "def run(a,b,c=9):\n",
    "    print(a+b+c)\n",
    "\n",
    "run(1,3,c=9)"
   ]
  },
  {
   "cell_type": "code",
   "execution_count": null,
   "metadata": {},
   "outputs": [],
   "source": []
  }
 ],
 "metadata": {
  "kernelspec": {
   "display_name": "Python 3",
   "language": "python",
   "name": "python3"
  },
  "language_info": {
   "codemirror_mode": {
    "name": "ipython",
    "version": 3
   },
   "file_extension": ".py",
   "mimetype": "text/x-python",
   "name": "python",
   "nbconvert_exporter": "python",
   "pygments_lexer": "ipython3",
   "version": "3.12.0"
  },
  "orig_nbformat": 4
 },
 "nbformat": 4,
 "nbformat_minor": 2
}
