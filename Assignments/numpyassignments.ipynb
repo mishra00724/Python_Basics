{
 "cells": [
  {
   "attachments": {},
   "cell_type": "markdown",
   "metadata": {},
   "source": [
    "# Module: NumPy Assignments\n",
    "## Lesson: NumPy\n"
   ]
  },
  {
   "attachments": {},
   "cell_type": "markdown",
   "id": "c37b446e",
   "metadata": {},
   "source": [
    "### Assignment 1: Array Creation and Manipulation\n",
    "\n",
    "1. Create a NumPy array of shape (5, 5) filled with random integers between 1 and 20. Replace all the elements in the third column with 1.\n",
    "2. Create a NumPy array of shape (4, 4) with values from 1 to 16. Replace the diagonal elements with 0."
   ]
  },
  {
   "cell_type": "code",
   "execution_count": 18,
   "metadata": {},
   "outputs": [
    {
     "name": "stdout",
     "output_type": "stream",
     "text": [
      "[[ 4 20 17 16  9]\n",
      " [13  4 15 16 18]\n",
      " [ 7  4  7 16 10]\n",
      " [ 5 20 12  4  2]\n",
      " [19  5 10 10  5]]\n",
      "(5, 5)\n",
      "\n",
      "[[ 4 10  2  9  4]\n",
      " [ 6 11  8 12 11]\n",
      " [ 1 14 12 14  7]\n",
      " [ 7  8 19 16  3]\n",
      " [16 17 15 17  4]]\n",
      "(5, 5)\n",
      "\n",
      "[[ 4 20  1 16  9]\n",
      " [13  4  1 16 18]\n",
      " [ 7  4  1 16 10]\n",
      " [ 5 20  1  4  2]\n",
      " [19  5  1 10  5]]\n"
     ]
    }
   ],
   "source": [
    "import numpy as np\n",
    "import random \n",
    "\n",
    "## using list comprehension\n",
    "arr=np.array([[random.randint(1,20) for _ in range(5)] for _ in range(5)])\n",
    "print(arr)\n",
    "print(arr.shape)\n",
    "\n",
    "print()\n",
    "## another way to create the same array\n",
    "arr2=np.random.randint(20,size=(5,5))\n",
    "print(arr2)\n",
    "print(arr2.shape)\n",
    "\n",
    "print()\n",
    "## Replacing all the elements in the third column with 1\n",
    "arr[:,2] = 1\n",
    "print(arr)\n"
   ]
  },
  {
   "cell_type": "code",
   "execution_count": 21,
   "id": "1f1cba4d",
   "metadata": {},
   "outputs": [
    {
     "name": "stdout",
     "output_type": "stream",
     "text": [
      "[[ 1 13 15  5]\n",
      " [ 7 13 15  9]\n",
      " [ 6  5  9 12]\n",
      " [14  6 12  3]]\n",
      "[[ 0 13 15  5]\n",
      " [ 7  0 15  9]\n",
      " [ 6  5  0 12]\n",
      " [14  6 12  0]]\n"
     ]
    }
   ],
   "source": [
    "#Create a NumPy array of shape (4, 4) with values from 1 to 16. Replace the diagonal elements with 0.\n",
    "\n",
    "arr3=np.random.randint(1,16,size=(4,4))\n",
    "\n",
    "print(arr3)\n",
    "\n",
    "for i in range(len(arr[0])-1):\n",
    "    arr3[i][i]=0\n",
    "\n",
    "print(arr3)"
   ]
  },
  {
   "attachments": {},
   "cell_type": "markdown",
   "id": "74018463",
   "metadata": {},
   "source": [
    "### Assignment 2: Array Indexing and Slicing\n",
    "\n",
    "1. Create a NumPy array of shape (6, 6) with values from 1 to 36. Extract the sub-array consisting of the 3rd to 5th rows and 2nd to 4th columns.\n",
    "2. Create a NumPy array of shape (5, 5) with random integers. Extract the elements on the border."
   ]
  },
  {
   "cell_type": "code",
   "execution_count": 27,
   "id": "54e1bc45",
   "metadata": {},
   "outputs": [
    {
     "name": "stdout",
     "output_type": "stream",
     "text": [
      "[[24 13 28 27 15  9]\n",
      " [31 22 13 31 31 30]\n",
      " [24 10 19 16  2 20]\n",
      " [14 22  1 30 18 23]\n",
      " [ 6 16 19 34 13 17]\n",
      " [21 22 19 30 35  6]] \n",
      "\n",
      "[[10 19 16  2]\n",
      " [22  1 30 18]\n",
      " [16 19 34 13]]\n"
     ]
    }
   ],
   "source": [
    "arr4=np.random.randint(1,36,size=(6,6))\n",
    "print(arr4,\"\\n\")\n",
    "\n",
    "##subarray of 3rd to 5th row and 2nd to 4th column\n",
    "subarray=arr4[2:5,1:5]\n",
    "\n",
    "print(subarray)"
   ]
  },
  {
   "cell_type": "code",
   "execution_count": 28,
   "id": "04dd145e",
   "metadata": {},
   "outputs": [
    {
     "name": "stdout",
     "output_type": "stream",
     "text": [
      "[[68 21 42 74 44]\n",
      " [69  1 80 88 33]\n",
      " [87 50 46 97  7]\n",
      " [13 55 29 21 72]\n",
      " [91 51 48  3 78]] \n",
      "\n",
      "\n",
      "\n",
      "[[68. 21. 42. 74. 44.]\n",
      " [69.  0.  0.  0. 33.]\n",
      " [87.  0.  0.  0.  7.]\n",
      " [13.  0.  0.  0. 72.]\n",
      " [91. 51. 48.  3. 78.]]\n"
     ]
    }
   ],
   "source": [
    "arr5=np.random.randint(100,size=(5,5))\n",
    "test_subarray=np.zeros((5,5))\n",
    "\n",
    "print(arr5,\"\\n\\n\\n\")\n",
    "for i in range(len(arr5[0]-1)):\n",
    "    for j in range(len(arr[0]-1)):\n",
    "        if i==0 or i==4:\n",
    "            test_subarray[i][j]=arr5[i][j]\n",
    "        elif j==0 or j==4:\n",
    "            test_subarray[i][j]=arr5[i][j]\n",
    "\n",
    "print(test_subarray)\n",
    "\n"
   ]
  },
  {
   "attachments": {},
   "cell_type": "markdown",
   "id": "9e628450",
   "metadata": {},
   "source": [
    "### Assignment 3: Array Operations\n",
    "\n",
    "1. Create two NumPy arrays of shape (3, 4) filled with random integers. Perform element-wise addition, subtraction, multiplication, and division.\n",
    "2. Create a NumPy array of shape (4, 4) with values from 1 to 16. Compute the row-wise and column-wise sum."
   ]
  },
  {
   "cell_type": "code",
   "execution_count": 30,
   "id": "1622e6cc",
   "metadata": {},
   "outputs": [
    {
     "name": "stdout",
     "output_type": "stream",
     "text": [
      "[[97 22 16 96]\n",
      " [ 8 58  6 27]\n",
      " [13  3 51 38]] \n",
      "\n",
      "\n",
      "[[46 23 25 99]\n",
      " [89 94 68 84]\n",
      " [91 33 83 48]] \n",
      "\n",
      "\n",
      "[[143  45  41 195]\n",
      " [ 97 152  74 111]\n",
      " [104  36 134  86]] \n",
      "\n",
      "\n",
      "[[ 51  -1  -9  -3]\n",
      " [-81 -36 -62 -57]\n",
      " [-78 -30 -32 -10]] \n",
      "\n",
      "\n",
      "[[4462  506  400 9504]\n",
      " [ 712 5452  408 2268]\n",
      " [1183   99 4233 1824]] \n",
      "\n",
      "\n",
      "[[2.10869565 0.95652174 0.64       0.96969697]\n",
      " [0.08988764 0.61702128 0.08823529 0.32142857]\n",
      " [0.14285714 0.09090909 0.61445783 0.79166667]]\n"
     ]
    }
   ],
   "source": [
    "arr6=np.random.randint(100,size=(3,4))\n",
    "print(arr6,\"\\n\\n\")\n",
    "arr7=np.random.randint(100,size=(3,4))\n",
    "print(arr7,\"\\n\\n\")\n",
    "\n",
    "addition_array=arr6+arr7\n",
    "print(addition_array,\"\\n\\n\")\n",
    "\n",
    "subtraction_array=arr6-arr7\n",
    "print(subtraction_array,\"\\n\\n\")\n",
    "\n",
    "multiply_array=arr6*arr7\n",
    "print(multiply_array,\"\\n\\n\")\n",
    "\n",
    "\n",
    "division_array=arr6/arr7\n",
    "print(division_array)\n"
   ]
  },
  {
   "cell_type": "code",
   "execution_count": 49,
   "id": "6d3dfbf5",
   "metadata": {},
   "outputs": [
    {
     "name": "stdout",
     "output_type": "stream",
     "text": [
      "[[ 2  1  5  2]\n",
      " [15 14 14 15]\n",
      " [12  3  1 12]\n",
      " [ 4  3  4 12]] \n",
      "\n",
      "\n",
      " Sum of row0 is [2 1 5 2] = 10 \n",
      "\n",
      " Sum of row1 is [15 14 14 15] = 58 \n",
      "\n",
      " Sum of row2 is [12  3  1 12] = 28 \n",
      "\n",
      " Sum of row3 is [ 4  3  4 12] = 23 \n",
      "\n",
      "Sum of Column0 is [ 2 15 12  4] = 33 \n",
      " \n",
      "Sum of Column1 is [ 1 14  3  3] = 21 \n",
      " \n",
      "Sum of Column2 is [ 5 14  1  4] = 24 \n",
      " \n",
      "Sum of Column3 is [ 2 15 12 12] = 41 \n",
      " \n"
     ]
    }
   ],
   "source": [
    "#Create a NumPy array of shape (4, 4) with values from 1 to 16. Compute the row-wise and column-wise sum.\n",
    "\n",
    "arr8=np.random.randint(1,16,size=(4,4))\n",
    "print(arr8,\"\\n\\n\")\n",
    "## Row wise Sum\n",
    "for i in range(len(arr8[0])):\n",
    "    print(f\" Sum of row{i} is {arr8[i]} = {arr8[i].sum()} \\n\")\n",
    "    \n",
    "## Column wise Sum\n",
    "for i in range(len(arr8[0])):\n",
    "    print(f\"Sum of Column{i} is {arr8[:,i]} = {arr8[:,i].sum()} \\n \")"
   ]
  },
  {
   "attachments": {},
   "cell_type": "markdown",
   "id": "ee5f9649",
   "metadata": {},
   "source": [
    "### Assignment 4: Statistical Operations\n",
    "\n",
    "1. Create a NumPy array of shape (5, 5) filled with random integers. Compute the mean, median, standard deviation, and variance of the array.\n",
    "2. Create a NumPy array of shape (3, 3) with values from 1 to 9. Normalize the array (i.e., scale the values to have a mean of 0 and a standard deviation of 1).\n"
   ]
  },
  {
   "cell_type": "code",
   "execution_count": 51,
   "id": "921f7de1",
   "metadata": {},
   "outputs": [
    {
     "name": "stdout",
     "output_type": "stream",
     "text": [
      "Mean of row[0] is [15 46 99 19 16] = 39.0\n",
      "Mean of row[1] is [49 29 52 31 28] = 37.8\n",
      "Mean of row[2] is [95 21 73 35 23] = 49.4\n",
      "Mean of row[3] is [21 25 69  9 32] = 31.2\n",
      "Mean of row[4] is [80 94 12 70 21] = 55.4\n"
     ]
    }
   ],
   "source": [
    "ar1=np.random.randint(100,size=(5,5))\n",
    "\n",
    "for i in range(5):\n",
    "    print(f\"Mean of row[{i}] is {ar1[i]} = {ar1[i].mean()}\")\n"
   ]
  },
  {
   "cell_type": "code",
   "execution_count": 53,
   "id": "2c032804",
   "metadata": {},
   "outputs": [
    {
     "name": "stdout",
     "output_type": "stream",
     "text": [
      "[[5 8 4]\n",
      " [2 5 5]\n",
      " [3 4 7]]\n",
      "[[ 0.12700013  1.84150184 -0.44450044]\n",
      " [-1.58750159  0.12700013  0.12700013]\n",
      " [-1.01600102 -0.44450044  1.27000127]]\n"
     ]
    }
   ],
   "source": [
    "# Create a NumPy array of shape (3, 3) with values from 1 to 9. Normalize the array (i.e., scale the values to have a mean of 0 and a standard deviation of 1).\n",
    "\n",
    "ar2=np.random.randint(1,9,size=(3,3))\n",
    "\n",
    "print(ar2)\n",
    "\n",
    "normalized_array=(ar2 - ar2.mean())/ar2.std() \n",
    "\n",
    "print(normalized_array)"
   ]
  },
  {
   "attachments": {},
   "cell_type": "markdown",
   "id": "b92a0536",
   "metadata": {},
   "source": [
    "### Assignment 5: Broadcasting\n",
    "\n",
    "1. Create a NumPy array of shape (3, 3) filled with random integers. Add a 1D array of shape (3,) to each row of the 2D array using broadcasting.\n"
   ]
  },
  {
   "cell_type": "code",
   "execution_count": 56,
   "id": "b8319ac3",
   "metadata": {},
   "outputs": [
    {
     "name": "stdout",
     "output_type": "stream",
     "text": [
      "[[ 2 44  8]\n",
      " [50 40 44]\n",
      " [17 84 96]] \n",
      "\n",
      "[86 99 76] \n",
      "\n",
      "\n",
      "[[ 88 143  84]\n",
      " [136 139 120]\n",
      " [103 183 172]]\n"
     ]
    }
   ],
   "source": [
    "ar3=np.random.randint(100,size=(3,3))\n",
    "print(ar3,\"\\n\")\n",
    "row_array=np.random.randint(100,size=(3,))\n",
    "print(row_array,\"\\n\\n\")\n",
    "\n",
    "## adding 1-D array to every row :\n",
    "new_array=ar3+row_array\n",
    "\n",
    "print(new_array)"
   ]
  },
  {
   "attachments": {},
   "cell_type": "markdown",
   "id": "d695901b",
   "metadata": {},
   "source": [
    "2. Create a NumPy array of shape (4, 4) filled with random integers. Subtract a 1D array of shape (4,) from each column of the 2D array using broadcasting."
   ]
  },
  {
   "cell_type": "code",
   "execution_count": 57,
   "id": "b8af61fe",
   "metadata": {},
   "outputs": [
    {
     "name": "stdout",
     "output_type": "stream",
     "text": [
      "[[-4 -4  1  1]\n",
      " [-1 -4 -2  2]\n",
      " [-2  3  1  0]\n",
      " [-6 -1 -4  3]]\n"
     ]
    }
   ],
   "source": [
    "array=np.random.randint(1,9,size=(4,4))\n",
    "row_array=np.random.randint(1,9,size=(4))\n",
    "\n",
    "subtract_array= array-row_array\n",
    "\n",
    "print(subtract_array)"
   ]
  },
  {
   "attachments": {},
   "cell_type": "markdown",
   "id": "42548e1b",
   "metadata": {},
   "source": [
    "### Assignment 6: Linear Algebra\n",
    "\n",
    "1. Create a NumPy array of shape (3, 3) representing a matrix. Compute its determinant, inverse, and eigenvalues.\n"
   ]
  },
  {
   "cell_type": "code",
   "execution_count": 60,
   "id": "3198863b",
   "metadata": {},
   "outputs": [
    {
     "name": "stdout",
     "output_type": "stream",
     "text": [
      "Determinant of matrix \n",
      " [[3 1 4]\n",
      " [6 4 7]\n",
      " [1 4 8]]\n",
      " is = 51.00000000000002\n",
      "Inverse of matrix is :\n",
      " [[ 0.07843137  0.15686275 -0.17647059]\n",
      " [-0.80392157  0.39215686  0.05882353]\n",
      " [ 0.39215686 -0.21568627  0.11764706]]\n",
      "Eigenvalues are :\n",
      " [ 1.00340515+1.70830656j  1.00340515-1.70830656j 12.99318971+0.j        ]\n"
     ]
    }
   ],
   "source": [
    "array=np.random.randint(1,9,size=(3,3))\n",
    "\n",
    "print(f\"Determinant of matrix \\n {array}\\n is = {np.linalg.det(array)}\")\n",
    "\n",
    "\n",
    "print(f\"Inverse of matrix is :\\n {np.linalg.inv(array)}\")\n",
    "\n",
    "print(f\"Eigenvalues are :\\n {np.linalg.eigvals(array)}\")"
   ]
  },
  {
   "attachments": {},
   "cell_type": "markdown",
   "id": "375d49f6",
   "metadata": {},
   "source": [
    "2. Create two NumPy arrays of shape (2, 3) and (3, 2). Perform matrix multiplication on these arrays."
   ]
  },
  {
   "cell_type": "code",
   "execution_count": 61,
   "id": "cf0ce296",
   "metadata": {},
   "outputs": [
    {
     "name": "stdout",
     "output_type": "stream",
     "text": [
      "Multiplication of two matirix is \n",
      "[[12 41]\n",
      " [15 55]]\n"
     ]
    }
   ],
   "source": [
    "ar1=np.random.randint(1,9,size=(2,3))\n",
    "ar2=np.random.randint(1,9,size=(3,2))\n",
    "\n",
    "result = np.dot(ar1, ar2)\n",
    "\n",
    "print(f\"Multiplication of two matirix is \\n{result}\")"
   ]
  },
  {
   "attachments": {},
   "cell_type": "markdown",
   "id": "e11cb5ee",
   "metadata": {},
   "source": [
    "### Assignment 7: Advanced Array Manipulation\n",
    "\n",
    "1. Create a NumPy array of shape (3, 3) with values from 1 to 9. Reshape the array to shape (1, 9) and then to shape (9, 1).\n"
   ]
  },
  {
   "cell_type": "code",
   "execution_count": 64,
   "id": "2eeab6b6",
   "metadata": {},
   "outputs": [
    {
     "name": "stdout",
     "output_type": "stream",
     "text": [
      "[[5 4 6]\n",
      " [3 7 8]\n",
      " [2 6 5]]\n",
      "[[5 4 6 3 7 8 2 6 5]]\n",
      "[[5]\n",
      " [4]\n",
      " [6]\n",
      " [3]\n",
      " [7]\n",
      " [8]\n",
      " [2]\n",
      " [6]\n",
      " [5]]\n"
     ]
    }
   ],
   "source": [
    "array=np.random.randint(1,9,size=(3,3))\n",
    "print(array)\n",
    "\n",
    "# Reshaping the array from (3,3) to (1,9)\n",
    "array=array.reshape(1,9)\n",
    "\n",
    "print(array)\n",
    "\n",
    "\n",
    "#Reshaping the array from (1,9) to (9,1)\n",
    "array=array.reshape(9,1)\n",
    "print(array)"
   ]
  },
  {
   "attachments": {},
   "cell_type": "markdown",
   "id": "d3dbedbf",
   "metadata": {},
   "source": [
    "2. Create a NumPy array of shape (5, 5) filled with random integers. Flatten the array and then reshape it back to (5, 5)."
   ]
  },
  {
   "cell_type": "code",
   "execution_count": 65,
   "id": "a920e985",
   "metadata": {},
   "outputs": [
    {
     "name": "stdout",
     "output_type": "stream",
     "text": [
      "[[8 7 6 8 2]\n",
      " [3 4 3 1 5]\n",
      " [4 4 2 7 1]\n",
      " [4 1 7 2 4]\n",
      " [8 3 6 3 5]]\n",
      "[[8 7 6 8 2 3 4 3 1 5 4 4 2 7 1 4 1 7 2 4 8 3 6 3 5]]\n",
      "[[8 7 6 8 2]\n",
      " [3 4 3 1 5]\n",
      " [4 4 2 7 1]\n",
      " [4 1 7 2 4]\n",
      " [8 3 6 3 5]]\n"
     ]
    }
   ],
   "source": [
    "array=np.random.randint(1,9,size=(5,5))\n",
    "print(array)\n",
    "\n",
    "## Flattening the array\n",
    "\n",
    "array=array.reshape(1,25)\n",
    "print(array)\n",
    "\n",
    "#3 Getting the back to shape (5,5)\n",
    "array=array.reshape(5,5)\n",
    "\n",
    "print(array)"
   ]
  },
  {
   "attachments": {},
   "cell_type": "markdown",
   "id": "579b9ed0",
   "metadata": {},
   "source": [
    "### Assignment 8: Fancy Indexing and Boolean Indexing\n",
    "\n",
    "1. Create a NumPy array of shape (5, 5) filled with random integers. Use fancy indexing to extract the elements at the corners of the array.\n"
   ]
  },
  {
   "cell_type": "code",
   "execution_count": 66,
   "id": "6474c583",
   "metadata": {},
   "outputs": [
    {
     "name": "stdout",
     "output_type": "stream",
     "text": [
      "[[8 7 2 1 6]\n",
      " [1 4 2 1 5]\n",
      " [7 3 5 3 8]\n",
      " [6 6 8 1 5]\n",
      " [3 3 5 8 8]]\n",
      "[8 6 3 8]\n"
     ]
    }
   ],
   "source": [
    "array=np.random.randint(1,9,size=(5,5))\n",
    "print(array)\n",
    "\n",
    "corner_elements=array[[0,0,-1,-1],[0,-1,0,-1]]\n",
    "\n",
    "print(corner_elements)\n"
   ]
  },
  {
   "attachments": {},
   "cell_type": "markdown",
   "id": "72074e1f",
   "metadata": {},
   "source": [
    "2. Create a NumPy array of shape (4, 4) filled with random integers. Use boolean indexing to set all elements greater than 10 to 10."
   ]
  },
  {
   "cell_type": "code",
   "execution_count": 68,
   "id": "30bd88d1",
   "metadata": {},
   "outputs": [
    {
     "name": "stdout",
     "output_type": "stream",
     "text": [
      "[[18 17 18  9]\n",
      " [18  9 19 15]\n",
      " [15 18 16  2]\n",
      " [ 5  1 18 12]]\n",
      "[[10 10 10  9]\n",
      " [10  9 10 10]\n",
      " [10 10 10  2]\n",
      " [ 5  1 10 10]]\n"
     ]
    }
   ],
   "source": [
    "array=np.random.randint(20,size=(4,4))\n",
    "print(array)\n",
    "\n",
    "array[array>10]=10\n",
    "\n",
    "print(array)"
   ]
  },
  {
   "attachments": {},
   "cell_type": "markdown",
   "id": "e84df52d",
   "metadata": {},
   "source": [
    "### Assignment 9: Structured Arrays\n",
    "\n",
    "1. Create a structured array with fields 'name' (string), 'age' (integer), and 'weight' (float). Add some data and sort the array by age.\n"
   ]
  },
  {
   "cell_type": "code",
   "execution_count": 74,
   "id": "6c164501",
   "metadata": {},
   "outputs": [
    {
     "name": "stdout",
     "output_type": "stream",
     "text": [
      "[('Himanshu', 27, 67.9) ('Satyam', 27, 65.5) ('Shivam', 27, 58. )]\n",
      "[('Shivam', 27, 58. ) ('Satyam', 27, 65.5) ('Himanshu', 27, 67.9)]\n"
     ]
    }
   ],
   "source": [
    "data_type=[('name','U10'),('age','i4'),('weight','f4')]\n",
    "\n",
    "Structured_array=np.array([('Himanshu',27,67.9),('Satyam',27,65.5),('Shivam',27,58)],dtype=data_type)\n",
    "\n",
    "print(Structured_array)\n",
    "\n",
    "\n",
    "##Sorting the array\n",
    "sorted_data=np.sort(Structured_array,order='weight')\n",
    "print(sorted_data)"
   ]
  },
  {
   "attachments": {},
   "cell_type": "markdown",
   "id": "00dc8ad0",
   "metadata": {},
   "source": [
    "2. Create a structured array with fields 'x' and 'y' (both integers). Add some data and compute the Euclidean distance between each pair of points."
   ]
  },
  {
   "cell_type": "code",
   "execution_count": 75,
   "id": "478d42c5",
   "metadata": {},
   "outputs": [
    {
     "name": "stdout",
     "output_type": "stream",
     "text": [
      "[( 3,  4) (10, 32) (55, 34)]\n"
     ]
    }
   ],
   "source": [
    "data_type=[('x','i4'),('y','i4')]\n",
    "array=np.array([(3,4),(10,32),(55,34)],dtype=data_type)\n",
    "\n",
    "print(array)\n",
    "\n",
    "## computing the eclidean distance \n",
    "\n",
    "\n"
   ]
  },
  {
   "attachments": {},
   "cell_type": "markdown",
   "id": "85ebf13f",
   "metadata": {},
   "source": [
    "### Assignment 10: Masked Arrays\n",
    "\n",
    "1. Create a masked array of shape (4, 4) with random integers and mask the elements greater than 10. Compute the sum of the unmasked elements."
   ]
  },
  {
   "cell_type": "code",
   "execution_count": null,
   "id": "81ef94c2",
   "metadata": {},
   "outputs": [],
   "source": []
  },
  {
   "attachments": {},
   "cell_type": "markdown",
   "id": "a50a847e",
   "metadata": {},
   "source": [
    "2. Create a masked array of shape (3, 3) with random integers and mask the diagonal elements. Replace the masked elements with the mean of the unmasked elements."
   ]
  },
  {
   "cell_type": "code",
   "execution_count": null,
   "id": "4787a49e",
   "metadata": {},
   "outputs": [],
   "source": []
  }
 ],
 "metadata": {
  "kernelspec": {
   "display_name": "Python 3",
   "language": "python",
   "name": "python3"
  },
  "language_info": {
   "codemirror_mode": {
    "name": "ipython",
    "version": 3
   },
   "file_extension": ".py",
   "mimetype": "text/x-python",
   "name": "python",
   "nbconvert_exporter": "python",
   "pygments_lexer": "ipython3",
   "version": "3.12.0"
  }
 },
 "nbformat": 4,
 "nbformat_minor": 5
}
