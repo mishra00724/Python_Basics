{
 "cells": [
  {
   "cell_type": "markdown",
   "metadata": {},
   "source": [
    "# Module 3: Data Structures Assignments\n",
    "## Lesson 3.1: Lists\n",
    "### Assignment 1: Creating and Accessing Lists\n",
    "\n",
    "Create a list of the first 20 positive integers. Print the list.\n",
    "\n",
    "### Assignment 2: Accessing List Elements\n",
    "\n",
    "Print the first, middle, and last elements of the list created in Assignment 1.\n",
    "\n",
    "### Assignment 3: List Slicing\n",
    "\n",
    "Print the first five elements, the last five elements, and the elements from index 5 to 15 of the list created in Assignment 1.\n",
    "\n",
    "### Assignment 4: List Comprehensions\n",
    "\n",
    "Create a new list containing the squares of the first 10 positive integers using a list comprehension. Print the new list.\n",
    "\n",
    "### Assignment 5: Filtering Lists\n",
    "\n",
    "Create a new list containing only the even numbers from the list created in Assignment 1 using a list comprehension. Print the new list.\n",
    "\n",
    "### Assignment 6: List Methods\n",
    "\n",
    "Create a list of random numbers and sort it in ascending and descending order. Remove the duplicates from the list and print the modified list.\n",
    "\n",
    "### Assignment 7: Nested Lists\n",
    "\n",
    "Create a nested list representing a 3x3 matrix and print the matrix. Access and print the element at the second row and third column.\n",
    "\n",
    "### Assignment 8: List of Dictionaries\n",
    "\n",
    "Create a list of dictionaries where each dictionary represents a student with keys 'name' and 'score'. Sort the list of dictionaries by the 'score' in descending order and print the sorted list.\n",
    "\n",
    "### Assignment 9: Matrix Transposition\n",
    "\n",
    "Write a function that takes a 3x3 matrix (nested list) as input and returns its transpose. Print the original and transposed matrices.\n",
    "\n",
    "### Assignment 10: Flattening a Nested List\n",
    "\n",
    "Write a function that takes a nested list and flattens it into a single list. Print the original and flattened lists.\n",
    "\n",
    "### Assignment 11: List Manipulation\n",
    "\n",
    "Create a list of the first 10 positive integers. Remove the elements at indices 2, 4, and 6, and insert the element '99' at index 5. Print the modified list.\n",
    "\n",
    "### Assignment 12: List Zipping\n",
    "\n",
    "Create two lists of the same length. Use the `zip` function to combine these lists into a list of tuples and print the result.\n",
    "\n",
    "### Assignment 13: List Reversal\n",
    "\n",
    "Write a function that takes a list and returns a new list with the elements in reverse order. Print the original and reversed lists.\n",
    "\n",
    "### Assignment 14: List Rotation\n",
    "\n",
    "Write a function that rotates a list by n positions. Print the original and rotated lists.\n",
    "\n",
    "### Assignment 15: List Intersection\n",
    "\n",
    "Write a function that takes two lists and returns a new list containing only the elements that are present in both lists. Print the intersected list."
   ]
  },
  {
   "cell_type": "code",
   "execution_count": 2,
   "metadata": {},
   "outputs": [
    {
     "name": "stdout",
     "output_type": "stream",
     "text": [
      "[1, 2, 3, 4, 5, 6, 7, 8, 9, 10, 11, 12, 13, 14, 15, 16, 17, 18, 19, 20]\n"
     ]
    }
   ],
   "source": [
    "## Assignment 1:### Assignment 1: Creating and Accessing Lists\n",
    "\n",
    "##Create a list of the first 20 positive integers. Print the list.\n",
    "\n",
    "positive_integers=[num for num in range(21) if num>0]\n",
    "print(positive_integers) "
   ]
  },
  {
   "cell_type": "code",
   "execution_count": 8,
   "id": "c8132877",
   "metadata": {},
   "outputs": [
    {
     "name": "stdout",
     "output_type": "stream",
     "text": [
      "First Element:1, Last Element : 20, middle element : 11\n"
     ]
    }
   ],
   "source": [
    "### Assignment 2: Accessing List Elements\n",
    "\n",
    "## Print the first, middle, and last elements of the list created in Assignment 1.\n",
    "print(f\"First Element:{positive_integers[0]}, Last Element : {positive_integers[-1]}, middle element : {positive_integers[len(positive_integers)//2]}\")"
   ]
  },
  {
   "cell_type": "code",
   "execution_count": 16,
   "id": "9f6c48bf",
   "metadata": {},
   "outputs": [
    {
     "name": "stdout",
     "output_type": "stream",
     "text": [
      "First five Elements are:[1, 2, 3, 4, 5]\n",
      "Last five Elements are:[16, 17, 18, 19, 20]\n",
      "Elements from 5 - 15 are:[6, 7, 8, 9, 10, 11, 12, 13, 14, 15]\n"
     ]
    }
   ],
   "source": [
    "### Assignment 3: List Slicing\n",
    "\n",
    "##Print the first five elements, the last five elements, and the elements from index 5 to 15 of the list created in Assignment 1.\n",
    "\n",
    "print(f\"First five Elements are:{positive_integers[:5]}\")\n",
    "\n",
    "print(f\"Last five Elements are:{positive_integers[-5:]}\")\n",
    "\n",
    "print(f\"Elements from 5 - 15 are:{positive_integers[5:15]}\")\n",
    "\n"
   ]
  },
  {
   "cell_type": "code",
   "execution_count": 18,
   "id": "c8e4bc4e",
   "metadata": {},
   "outputs": [
    {
     "name": "stdout",
     "output_type": "stream",
     "text": [
      "[1, 4, 9, 16, 25, 36, 49, 64, 81, 100]\n"
     ]
    }
   ],
   "source": [
    "### Assignment 4: List Comprehensions\n",
    "\n",
    "## Create a new list containing the squares of the first 10 positive integers using a list comprehension. Print the new list.\n",
    "\n",
    "new_lst=[num**2 for num in range(11) if num >0 ]\n",
    "\n",
    "print(new_lst)"
   ]
  },
  {
   "cell_type": "code",
   "execution_count": 19,
   "id": "59353f5c",
   "metadata": {},
   "outputs": [
    {
     "name": "stdout",
     "output_type": "stream",
     "text": [
      "[2, 4, 6, 8, 10, 12, 14, 16, 18, 20]\n"
     ]
    }
   ],
   "source": [
    "### Assignment 5: Filtering Lists\n",
    "\n",
    "## Create a new list containing only the even numbers from the list created in Assignment 1 using a list comprehension. Print the new list.\n",
    "\n",
    "new_lst=[num for num in positive_integers if num%2==0]\n",
    "print(new_lst)"
   ]
  },
  {
   "cell_type": "code",
   "execution_count": 30,
   "id": "50d43808",
   "metadata": {},
   "outputs": [
    {
     "name": "stdout",
     "output_type": "stream",
     "text": [
      "[14, 2, 65, 55, 57, 67, 68, 95, 72, 30, 33, 92, 38, 94, 55, 100, 97, 82, 24, 76]\n",
      "Items in ascending order :\n",
      "  [2, 14, 24, 30, 33, 38, 55, 55, 57, 65, 67, 68, 72, 76, 82, 92, 94, 95, 97, 100]\n",
      "Items in descending order : \n",
      " [100, 97, 95, 94, 92, 82, 76, 72, 68, 67, 65, 57, 55, 55, 38, 33, 30, 24, 14, 2]\n",
      "Items after removing duplicates :\n",
      "\n",
      "[2, 14, 24, 30, 33, 38, 55, 57, 65, 67, 68, 72, 76, 82, 92, 94, 95, 97, 100]\n"
     ]
    }
   ],
   "source": [
    "### Assignment 6: List Methods\n",
    "\n",
    "## Create a list of random numbers and sort it in ascending and descending order. Remove the duplicates from the list and print the modified list.\n",
    "\n",
    "import random\n",
    "\n",
    "items=[random.randint(1,100) for i in range(20)]\n",
    "\n",
    "print(items)\n",
    "\n",
    "##Sorting the list in Ascending Order\n",
    "items.sort()\n",
    "\n",
    "print(\"Items in ascending order :\\n \" , items)\n",
    "\n",
    "items.sort(reverse=True)\n",
    "\n",
    "print(\"Items in descending order : \\n\",items)\n",
    "\n",
    "print(\"Items after removing duplicates :\\n\")\n",
    "print(list(set(items)))"
   ]
  },
  {
   "cell_type": "code",
   "execution_count": 36,
   "id": "e968b597",
   "metadata": {},
   "outputs": [
    {
     "name": "stdout",
     "output_type": "stream",
     "text": [
      "[[1, 2, 3], [4, 5, 6], [7, 8, 9]]\n",
      "6\n"
     ]
    }
   ],
   "source": [
    "### Assignment 7: Nested Lists\n",
    "\n",
    "#Create a nested list representing a 3x3 matrix and print the matrix. Access and print the element at the second row and third column.\n",
    "\n",
    "matrix=[\n",
    "    [1,2,3],\n",
    "    [4,5,6],\n",
    "    [7,8,9]\n",
    "]\n",
    "print(matrix)\n",
    "\n",
    "#Accessing and printing the element at the second row and third column.\n",
    "\n",
    "print(matrix[1][2])\n"
   ]
  },
  {
   "cell_type": "code",
   "execution_count": 37,
   "id": "698b41e7",
   "metadata": {},
   "outputs": [
    {
     "name": "stdout",
     "output_type": "stream",
     "text": [
      "Sorted Students by score in descending order: \n",
      "{'name': 'Himanshu', 'score': '98'}\n",
      "{'name': 'Mayank', 'score': '88'}\n",
      "{'name': 'Shivam', 'score': '87'}\n",
      "{'name': 'Satyam', 'score': '75'}\n",
      "{'name': 'Varun', 'score': '55'}\n"
     ]
    }
   ],
   "source": [
    "### Assignment 8: List of Dictionaries\n",
    "\n",
    "## Create a list of dictionaries where each dictionary represents a student with keys 'name' and 'score'. Sort the list of dictionaries by the 'score' in descending order and print the sorted list.\n",
    "\n",
    "students=[\n",
    "    {'name':'Himanshu','score':'98'},\n",
    "    {'name':'Shivam','score':'87'},\n",
    "    {'name':'Satyam','score':'75'},\n",
    "    {'name':'Mayank','score':'88'},\n",
    "    {'name':'Varun','score':'55'}\n",
    "]\n",
    "\n",
    "sorted_students=sorted(students,key= lambda x:x['score'], reverse=True)\n",
    "print(\"Sorted Students by score in descending order: \")\n",
    "\n",
    "for student in sorted_students:\n",
    "    print(student)"
   ]
  },
  {
   "cell_type": "code",
   "execution_count": 84,
   "id": "f467313a",
   "metadata": {},
   "outputs": [
    {
     "name": "stdout",
     "output_type": "stream",
     "text": [
      "Original matrix:\n",
      "[1, 2, 3]\n",
      "[4, 5, 6]\n",
      "[7, 8, 9]\n",
      "Transposed matrix:\n",
      "[1, 4, 7]\n",
      "[2, 5, 8]\n",
      "[3, 6, 9]\n"
     ]
    }
   ],
   "source": [
    "### Assignment 9: Matrix Transposition\n",
    "\n",
    "# Write a function that takes a 3x3 matrix (nested list) as input and returns its transpose. Print the original and transposed matrices.\n",
    "\n",
    "def transpose_matrix(matrix):\n",
    "    transposed = [[matrix[i][j] for i in range(len(matrix))] for j in range(len(matrix[0]))]\n",
    "    return transposed\n",
    "\n",
    "matrix = [\n",
    "    [1, 2, 3],\n",
    "    [4, 5, 6],\n",
    "    [7, 8, 9]\n",
    "]\n",
    "\n",
    "transposed = transpose_matrix(matrix)\n",
    "print(\"Original matrix:\")\n",
    "for row in matrix:\n",
    "    print(row)\n",
    "print(\"Transposed matrix:\")\n",
    "for row in transposed:\n",
    "    print(row)"
   ]
  },
  {
   "cell_type": "code",
   "execution_count": 83,
   "id": "9b43ac7d",
   "metadata": {},
   "outputs": [
    {
     "name": "stdout",
     "output_type": "stream",
     "text": [
      "[1, 4, 7]\n",
      "[2, 5, 8]\n",
      "[3, 6, 9]\n"
     ]
    }
   ],
   "source": [
    "matrix = [\n",
    "    [1, 2, 3],\n",
    "    [4, 5, 6],\n",
    "    [7, 8, 9]\n",
    "]\n",
    "transpose =[[0]*len(matrix) for _ in range(len(matrix[0]))]\n",
    "temp=[]\n",
    "for i in range(len(matrix)):\n",
    "        for j in range(len(matrix[0])):\n",
    "                transpose[j][i]=matrix[i][j]\n",
    " \n",
    "     \n",
    "\n",
    "for row in transpose:\n",
    "        print(row)\n"
   ]
  },
  {
   "cell_type": "code",
   "execution_count": 85,
   "id": "6a679f34",
   "metadata": {},
   "outputs": [
    {
     "name": "stdout",
     "output_type": "stream",
     "text": [
      "[1, 2, 3, 4, 5, 6, 7, 8, 9]\n"
     ]
    }
   ],
   "source": [
    "### Assignment 10: Flattening a Nested List\n",
    "\n",
    "# Write a function that takes a nested list and flattens it into a single list. Print the original and flattened lists.\n",
    "\n",
    "flattened_list=[val for sublist in matrix for val in sublist]\n",
    "print(flattened_list)\n",
    "\n",
    "\n"
   ]
  },
  {
   "cell_type": "code",
   "execution_count": 89,
   "id": "16c38a9c",
   "metadata": {},
   "outputs": [
    {
     "name": "stdout",
     "output_type": "stream",
     "text": [
      "[1, 2, 4, 5, 7, 99, 8, 10]\n"
     ]
    }
   ],
   "source": [
    "### Assignment 11: List Manipulation\n",
    "\n",
    "# Create a list of the first 10 positive integers. Remove the elements at indices 2, 4, and 6, and insert the element '99' at index 5. Print the modified list.\n",
    "\n",
    "pst_int=[num for num in range(11) if num>0]\n",
    "\n",
    "## Removing Elements at indices 2 ,4,6\n",
    "pst_int.pop(2)\n",
    "pst_int.pop(4)\n",
    "pst_int.pop(6)\n",
    "\n",
    "## Inserting the element 99 at index 5\n",
    "pst_int.insert(5,99)\n",
    "\n",
    "\n",
    "print(pst_int)"
   ]
  },
  {
   "cell_type": "code",
   "execution_count": 90,
   "id": "25a75477",
   "metadata": {},
   "outputs": [
    {
     "name": "stdout",
     "output_type": "stream",
     "text": [
      "[(1, 'a'), (2, 'b'), (3, 'c'), (4, 'd'), (5, 'e')]\n"
     ]
    }
   ],
   "source": [
    "### Assignment 12: List Zipping\n",
    "\n",
    "#Create two lists of the same length. Use the `zip` function to combine these lists into a list of tuples and print the result.\n",
    "\n",
    "list1 = [1, 2, 3, 4, 5]\n",
    "list2 = ['a', 'b', 'c', 'd', 'e']\n",
    "zipped = list(zip(list1, list2))\n",
    "print(zipped)"
   ]
  },
  {
   "cell_type": "code",
   "execution_count": 94,
   "id": "9e7f5c73",
   "metadata": {},
   "outputs": [
    {
     "name": "stdout",
     "output_type": "stream",
     "text": [
      "Original List : [0, 2, 4, 6, 8, 10, 12, 14, 16, 18, 20, 22, 24]\n",
      "Reversed List : [24, 22, 20, 18, 16, 14, 12, 10, 8, 6, 4, 2, 0]\n"
     ]
    }
   ],
   "source": [
    "### Assignment 13: List Reversal\n",
    "\n",
    "#Write a function that takes a list and returns a new list with the elements in reverse order. Print the original and reversed lists.\n",
    "\n",
    "def rever(List):\n",
    "    temp =List[::-1]\n",
    "    return temp\n",
    "\n",
    "lst1=[num for num in range(25) if num %2==0 ]\n",
    "print(f\"Original List : {lst1}\")\n",
    "new_lst=rever(lst1)\n",
    "print(f\"Reversed List : {new_lst}\")\n",
    "    "
   ]
  },
  {
   "cell_type": "code",
   "execution_count": 95,
   "id": "179304b0",
   "metadata": {},
   "outputs": [
    {
     "name": "stdout",
     "output_type": "stream",
     "text": [
      "Original List : [0, 2, 4, 6, 8, 10, 12, 14, 16, 18, 20, 22, 24]\n",
      "Rotated List : [14, 16, 18, 20, 22, 24, 0, 2, 4, 6, 8, 10, 12]\n"
     ]
    }
   ],
   "source": [
    "### Assignment 14: List Rotation\n",
    "\n",
    "#Write a function that rotates a list by n positions. Print the original and rotated lists.\n",
    "\n",
    "def rotate_list(list,n):\n",
    "    return list[n:] + list[:n]\n",
    "\n",
    "lst1=[num for num in range(25) if num %2==0 ]\n",
    "print(f\"Original List : {lst1}\")\n",
    "\n",
    "n=7 # let n be 7\n",
    "\n",
    "rotated=rotate_list(lst1,n)\n",
    "print(f\"Rotated List : {rotated}\")\n",
    "\n"
   ]
  },
  {
   "cell_type": "code",
   "execution_count": 103,
   "id": "1d344e22",
   "metadata": {},
   "outputs": [
    {
     "name": "stdout",
     "output_type": "stream",
     "text": [
      "Intersected list [3, 4, 5]\n"
     ]
    }
   ],
   "source": [
    "### Assignment 15: List Intersection\n",
    "\n",
    "#Write a function that takes two lists and returns a new list containing only the elements that are present in both lists. Print the intersected list.\n",
    "\n",
    "def intersected_list(list1,list2):\n",
    "    return [num for num in list1 if num in list2]\n",
    "\n",
    "list1 = [1, 2, 3, 4, 5]\n",
    "list2 = [3, 4, 5, 6, 7]\n",
    "\n",
    "new_list=intersected_list(list1,list2)\n",
    "print(\"Intersected list\",new_list)\n"
   ]
  },
  {
   "cell_type": "code",
   "execution_count": null,
   "id": "c70283f5",
   "metadata": {},
   "outputs": [],
   "source": []
  }
 ],
 "metadata": {
  "kernelspec": {
   "display_name": "Python 3",
   "language": "python",
   "name": "python3"
  },
  "language_info": {
   "codemirror_mode": {
    "name": "ipython",
    "version": 3
   },
   "file_extension": ".py",
   "mimetype": "text/x-python",
   "name": "python",
   "nbconvert_exporter": "python",
   "pygments_lexer": "ipython3",
   "version": "3.12.0"
  }
 },
 "nbformat": 4,
 "nbformat_minor": 5
}
