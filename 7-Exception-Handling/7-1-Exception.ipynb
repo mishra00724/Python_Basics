{
 "cells": [
  {
   "attachments": {},
   "cell_type": "markdown",
   "metadata": {},
   "source": [
    "## Understanding Exceptions\n",
    "\n",
    "Exception handling in Python allows you to handle errors gracefully and take corretive actions without stopping the execution of the program.\n",
    "This Lesson will cover the basics of exceptions, including how to use try,except,else,and finally blocks.\n"
   ]
  },
  {
   "attachments": {},
   "cell_type": "markdown",
   "metadata": {},
   "source": [
    "### What are Exceptions?\n",
    "\n",
    "Exceptions are events that disrupt the normal flow of a program. They occur when a errors is encournterered during program execution . Common exceptions include:\n",
    "\n",
    "- ZeroDivisionError: Dividing by zero.\n",
    "- FileNotFoundError: file not found\n",
    "- ValueError: invalid value.\n",
    "- TypeError: Invalid type.\n"
   ]
  },
  {
   "cell_type": "code",
   "execution_count": 1,
   "metadata": {},
   "outputs": [],
   "source": [
    "## Examples\n",
    "a=10\n"
   ]
  },
  {
   "cell_type": "code",
   "execution_count": 4,
   "metadata": {},
   "outputs": [
    {
     "name": "stdout",
     "output_type": "stream",
     "text": [
      "The variable hasn't been assigned :  name 'b' is not defined\n"
     ]
    }
   ],
   "source": [
    "## Exception try -except blocks\n",
    "\n",
    "try:\n",
    "    a=b\n",
    "except NameError as ex:\n",
    "    print(\"The variable hasn't been assigned : \",ex)"
   ]
  },
  {
   "cell_type": "code",
   "execution_count": 7,
   "metadata": {},
   "outputs": [
    {
     "name": "stdout",
     "output_type": "stream",
     "text": [
      "division by zero\n",
      "Please enter the denominator greater than 0\n"
     ]
    }
   ],
   "source": [
    "##Another example\n",
    "try:    \n",
    "    result=1/0\n",
    "except ZeroDivisionError as ex:\n",
    "    print(ex)\n",
    "    print(\"Please enter the denominator greater than 0\")\n"
   ]
  },
  {
   "cell_type": "code",
   "execution_count": 10,
   "metadata": {},
   "outputs": [
    {
     "name": "stdout",
     "output_type": "stream",
     "text": [
      "name 'b' is not defined\n",
      "Main exception got caught here\n"
     ]
    }
   ],
   "source": [
    "## All Exceptions derived from 'Exception' class\n",
    "try:    \n",
    "    result=1/2\n",
    "    a=b\n",
    "except ZeroDivisionError as ex:\n",
    "    print(ex)\n",
    "    print(\"Please enter the denominator greater than 0\")\n",
    "except Exception as ex:\n",
    "    print(ex)\n",
    "    print(\"Main exception got caught here\")\n"
   ]
  },
  {
   "cell_type": "code",
   "execution_count": 13,
   "metadata": {},
   "outputs": [
    {
     "name": "stdout",
     "output_type": "stream",
     "text": [
      "this is not a valid number\n"
     ]
    }
   ],
   "source": [
    "try:\n",
    "    num= int(input(\"Enter a number\"))\n",
    "    result=10/num\n",
    "except ValueError:\n",
    "    print(\"this is not a valid number\")\n",
    "except ZeroDivisionError:\n",
    "    print(\"Enter Denominator greater than 0\")\n",
    "except Exception as ex:\n",
    "    print(ex)"
   ]
  },
  {
   "cell_type": "code",
   "execution_count": 14,
   "metadata": {},
   "outputs": [
    {
     "name": "stdout",
     "output_type": "stream",
     "text": [
      "The result is 0.2222222222222222\n"
     ]
    }
   ],
   "source": [
    "## Try Except else block\n",
    "\n",
    "try:\n",
    "    num = int( input(\"Enter a number:\"))\n",
    "    result=10/num\n",
    "except ValueError:\n",
    "    print(\"That's mpt a valid number\")\n",
    "except ZeroDivisionError:\n",
    "    print(\"you can't divide by zero\")\n",
    "except Exception as ex:\n",
    "    print(ex)\n",
    "else:## If none of the blocks getting executed then else block will get executed\n",
    "    print(f\"The result is {result}\")"
   ]
  },
  {
   "cell_type": "code",
   "execution_count": 15,
   "metadata": {},
   "outputs": [
    {
     "name": "stdout",
     "output_type": "stream",
     "text": [
      "The result is 2.0\n",
      "Execution Complete\n"
     ]
    }
   ],
   "source": [
    "## Try Except else finally\n",
    "try:\n",
    "    num = int( input(\"Enter a number:\"))\n",
    "    result=10/num\n",
    "except ValueError:\n",
    "    print(\"That's mpt a valid number\")\n",
    "except ZeroDivisionError:\n",
    "    print(\"you can't divide by zero\")\n",
    "except Exception as ex:\n",
    "    print(ex)\n",
    "else:## If none of the blocks getting executed then else block will get executed\n",
    "    print(f\"The result is {result}\")\n",
    "finally:\n",
    "    print(\"Execution Complete\")"
   ]
  },
  {
   "attachments": {},
   "cell_type": "markdown",
   "metadata": {},
   "source": [
    "## Practical Example"
   ]
  },
  {
   "cell_type": "code",
   "execution_count": 16,
   "metadata": {},
   "outputs": [
    {
     "name": "stdout",
     "output_type": "stream",
     "text": [
      "file doesn't exists\n"
     ]
    }
   ],
   "source": [
    "## File handling and exception  Handling\n",
    "\n",
    "try:\n",
    "    file=open('example1.txt','r')\n",
    "    content=file.read()\n",
    "    print(content)\n",
    "except FileNotFoundError:\n",
    "    print(\"file doesn't exists\")\n",
    "\n",
    "except Exception as ex:\n",
    "    print(ex)\n",
    "    \n",
    "finally:\n",
    "    if 'file' in locals() and not file.closed():\n",
    "        file.close()\n",
    "        print('file close')\n"
   ]
  }
 ],
 "metadata": {
  "kernelspec": {
   "display_name": "Python 3",
   "language": "python",
   "name": "python3"
  },
  "language_info": {
   "codemirror_mode": {
    "name": "ipython",
    "version": 3
   },
   "file_extension": ".py",
   "mimetype": "text/x-python",
   "name": "python",
   "nbconvert_exporter": "python",
   "pygments_lexer": "ipython3",
   "version": "3.12.0"
  },
  "orig_nbformat": 4
 },
 "nbformat": 4,
 "nbformat_minor": 2
}
