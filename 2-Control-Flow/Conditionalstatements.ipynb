{
 "cells": [
  {
   "attachments": {},
   "cell_type": "markdown",
   "metadata": {},
   "source": [
    "### Conditional Statements (if, elif,else)\n",
    "\n",
    "Video Outline:\n",
    "\n",
    "    1. Introduction to conditional Statements.\n",
    "    2. If Statement.\n",
    "    3. Else statement\n",
    "    4. elif statement.\n",
    "    5. Nested Conditional Statements.\n",
    "    6. Practical Examples\n",
    "    7. Common Errors and Best Practices.\n",
    "    \n"
   ]
  },
  {
   "cell_type": "code",
   "execution_count": 1,
   "metadata": {},
   "outputs": [
    {
     "name": "stdout",
     "output_type": "stream",
     "text": [
      "You are allowed to vote in the elections\n"
     ]
    }
   ],
   "source": [
    "## if statement\n",
    "age = 20\n",
    "\n",
    "if age>=18:\n",
    "    print(\"You are allowed to vote in the elections\")\n"
   ]
  },
  {
   "cell_type": "code",
   "execution_count": 2,
   "metadata": {},
   "outputs": [
    {
     "name": "stdout",
     "output_type": "stream",
     "text": [
      "You are a minor\n"
     ]
    }
   ],
   "source": [
    "## else\n",
    "## the else statement executes a block of code if the condition in the if statement is False.\n",
    "\n",
    "age = 16\n",
    "\n",
    "if age>=18:\n",
    "    print(\"You are allowed to vote in the elections\")\n",
    "else:\n",
    "    print(\"You are a minor\")\n"
   ]
  },
  {
   "cell_type": "code",
   "execution_count": 3,
   "metadata": {},
   "outputs": [
    {
     "name": "stdout",
     "output_type": "stream",
     "text": [
      "you are an adult\n"
     ]
    }
   ],
   "source": [
    "## elif\n",
    "## the elif statement allows you to check multiple conditions. It stands for \"else if\"\n",
    "\n",
    "age = 20\n",
    "\n",
    "if age < 13:\n",
    "    print(\"you are a child\")\n",
    "elif age <18:\n",
    "    print(\"you are a Teenager\")\n",
    "else:\n",
    "    print(\"you are an adult\")\n",
    "    "
   ]
  },
  {
   "cell_type": "code",
   "execution_count": 4,
   "metadata": {},
   "outputs": [
    {
     "name": "stdout",
     "output_type": "stream",
     "text": [
      "number c= 24  is largest amongst all\n"
     ]
    }
   ],
   "source": [
    "## Nested Conditional Statements \n",
    "\n",
    "## You can place one or more if , eleif , or else staements inside another if , elif , or ese statement \n",
    "\n",
    "## Largest of three numbers\n",
    "\n",
    "a = int(input(\"Enter a number\"))\n",
    "b = int(input(\"Enter another number\"))\n",
    "c = int(input(\"Enter third number\"))\n",
    "\n",
    "if a > b :\n",
    "    if a > c :\n",
    "        print(f\"number a=\",a,\" is largest amongst all\")\n",
    "    else :\n",
    "        print(f\"number c=\",c,\" is largest amongst all\")\n",
    "else :\n",
    "    if b > c:\n",
    "        print(f\"number b=\",b,\" is largest amongst all\")\n",
    "    else:\n",
    "        print(f\"number c=\",c,\" is largest amongst all\")"
   ]
  },
  {
   "cell_type": "code",
   "execution_count": 19,
   "metadata": {},
   "outputs": [
    {
     "name": "stdout",
     "output_type": "stream",
     "text": [
      "2024 is a leap year\n"
     ]
    }
   ],
   "source": [
    "## Practical Examples\n",
    "\n",
    "## Determine if a year is a leap year using nested condition statement\n",
    "\n",
    "year=int(input(\"Enter a Year\"))\n",
    "\n",
    "if year%4==0:\n",
    "    if year % 100 != 0:\n",
    "       print(year, \"is a leap year\")\n",
    "elif year %400 == 0:\n",
    "    print(year, \"is a leap year\")\n",
    "else:\n",
    "    print(year, \"isn't a leap year\")"
   ]
  }
 ],
 "metadata": {
  "kernelspec": {
   "display_name": "Python 3",
   "language": "python",
   "name": "python3"
  },
  "language_info": {
   "codemirror_mode": {
    "name": "ipython",
    "version": 3
   },
   "file_extension": ".py",
   "mimetype": "text/x-python",
   "name": "python",
   "nbconvert_exporter": "python",
   "pygments_lexer": "ipython3",
   "version": "3.12.0"
  },
  "orig_nbformat": 4
 },
 "nbformat": 4,
 "nbformat_minor": 2
}
